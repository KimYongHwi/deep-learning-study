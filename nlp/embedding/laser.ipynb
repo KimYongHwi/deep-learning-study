{
 "cells": [
  {
   "cell_type": "code",
   "execution_count": 17,
   "metadata": {
    "collapsed": true
   },
   "outputs": [
    {
     "name": "stdout",
     "output_type": "stream",
     "text": [
      "Requirement already satisfied: laser_encoders in /Users/kyh/study/deep-learning-study/venv/lib/python3.10/site-packages (0.0.1)\r\n",
      "Requirement already satisfied: sacremoses==0.1.0 in /Users/kyh/study/deep-learning-study/venv/lib/python3.10/site-packages (from laser_encoders) (0.1.0)\r\n",
      "Requirement already satisfied: unicategories>=0.1.2 in /Users/kyh/study/deep-learning-study/venv/lib/python3.10/site-packages (from laser_encoders) (0.1.2)\r\n",
      "Requirement already satisfied: sentencepiece>=0.1.99 in /Users/kyh/study/deep-learning-study/venv/lib/python3.10/site-packages (from laser_encoders) (0.1.99)\r\n",
      "Requirement already satisfied: numpy>=1.21.3 in /Users/kyh/study/deep-learning-study/venv/lib/python3.10/site-packages (from laser_encoders) (1.25.2)\r\n",
      "Requirement already satisfied: torch>=1.10.0 in /Users/kyh/study/deep-learning-study/venv/lib/python3.10/site-packages (from laser_encoders) (2.1.1)\r\n",
      "Requirement already satisfied: fairseq>=0.12.2 in /Users/kyh/study/deep-learning-study/venv/lib/python3.10/site-packages (from laser_encoders) (0.12.2)\r\n",
      "Requirement already satisfied: regex in /Users/kyh/study/deep-learning-study/venv/lib/python3.10/site-packages (from sacremoses==0.1.0->laser_encoders) (2023.8.8)\r\n",
      "Requirement already satisfied: click in /Users/kyh/study/deep-learning-study/venv/lib/python3.10/site-packages (from sacremoses==0.1.0->laser_encoders) (8.1.7)\r\n",
      "Requirement already satisfied: joblib in /Users/kyh/study/deep-learning-study/venv/lib/python3.10/site-packages (from sacremoses==0.1.0->laser_encoders) (1.3.2)\r\n",
      "Requirement already satisfied: tqdm in /Users/kyh/study/deep-learning-study/venv/lib/python3.10/site-packages (from sacremoses==0.1.0->laser_encoders) (4.66.1)\r\n",
      "Requirement already satisfied: cffi in /Users/kyh/study/deep-learning-study/venv/lib/python3.10/site-packages (from fairseq>=0.12.2->laser_encoders) (1.15.1)\r\n",
      "Requirement already satisfied: cython in /Users/kyh/study/deep-learning-study/venv/lib/python3.10/site-packages (from fairseq>=0.12.2->laser_encoders) (3.0.6)\r\n",
      "Requirement already satisfied: hydra-core<1.1,>=1.0.7 in /Users/kyh/study/deep-learning-study/venv/lib/python3.10/site-packages (from fairseq>=0.12.2->laser_encoders) (1.0.7)\r\n",
      "Requirement already satisfied: omegaconf<2.1 in /Users/kyh/study/deep-learning-study/venv/lib/python3.10/site-packages (from fairseq>=0.12.2->laser_encoders) (2.0.6)\r\n",
      "Requirement already satisfied: sacrebleu>=1.4.12 in /Users/kyh/study/deep-learning-study/venv/lib/python3.10/site-packages (from fairseq>=0.12.2->laser_encoders) (2.3.3)\r\n",
      "Requirement already satisfied: bitarray in /Users/kyh/study/deep-learning-study/venv/lib/python3.10/site-packages (from fairseq>=0.12.2->laser_encoders) (2.8.5)\r\n",
      "Requirement already satisfied: torchaudio>=0.8.0 in /Users/kyh/study/deep-learning-study/venv/lib/python3.10/site-packages (from fairseq>=0.12.2->laser_encoders) (2.1.1)\r\n",
      "Requirement already satisfied: filelock in /Users/kyh/study/deep-learning-study/venv/lib/python3.10/site-packages (from torch>=1.10.0->laser_encoders) (3.12.3)\r\n",
      "Requirement already satisfied: typing-extensions in /Users/kyh/study/deep-learning-study/venv/lib/python3.10/site-packages (from torch>=1.10.0->laser_encoders) (4.7.1)\r\n",
      "Requirement already satisfied: sympy in /Users/kyh/study/deep-learning-study/venv/lib/python3.10/site-packages (from torch>=1.10.0->laser_encoders) (1.12)\r\n",
      "Requirement already satisfied: networkx in /Users/kyh/study/deep-learning-study/venv/lib/python3.10/site-packages (from torch>=1.10.0->laser_encoders) (3.1)\r\n",
      "Requirement already satisfied: jinja2 in /Users/kyh/study/deep-learning-study/venv/lib/python3.10/site-packages (from torch>=1.10.0->laser_encoders) (3.1.2)\r\n",
      "Requirement already satisfied: fsspec in /Users/kyh/study/deep-learning-study/venv/lib/python3.10/site-packages (from torch>=1.10.0->laser_encoders) (2023.9.0)\r\n",
      "Requirement already satisfied: appdirs in /Users/kyh/study/deep-learning-study/venv/lib/python3.10/site-packages (from unicategories>=0.1.2->laser_encoders) (1.4.4)\r\n",
      "Requirement already satisfied: antlr4-python3-runtime==4.8 in /Users/kyh/study/deep-learning-study/venv/lib/python3.10/site-packages (from hydra-core<1.1,>=1.0.7->fairseq>=0.12.2->laser_encoders) (4.8)\r\n",
      "Requirement already satisfied: PyYAML>=5.1.* in /Users/kyh/study/deep-learning-study/venv/lib/python3.10/site-packages (from omegaconf<2.1->fairseq>=0.12.2->laser_encoders) (6.0.1)\r\n",
      "Requirement already satisfied: portalocker in /Users/kyh/study/deep-learning-study/venv/lib/python3.10/site-packages (from sacrebleu>=1.4.12->fairseq>=0.12.2->laser_encoders) (2.8.2)\r\n",
      "Requirement already satisfied: tabulate>=0.8.9 in /Users/kyh/study/deep-learning-study/venv/lib/python3.10/site-packages (from sacrebleu>=1.4.12->fairseq>=0.12.2->laser_encoders) (0.9.0)\r\n",
      "Requirement already satisfied: colorama in /Users/kyh/study/deep-learning-study/venv/lib/python3.10/site-packages (from sacrebleu>=1.4.12->fairseq>=0.12.2->laser_encoders) (0.4.6)\r\n",
      "Requirement already satisfied: lxml in /Users/kyh/study/deep-learning-study/venv/lib/python3.10/site-packages (from sacrebleu>=1.4.12->fairseq>=0.12.2->laser_encoders) (4.9.3)\r\n",
      "Requirement already satisfied: pycparser in /Users/kyh/study/deep-learning-study/venv/lib/python3.10/site-packages (from cffi->fairseq>=0.12.2->laser_encoders) (2.21)\r\n",
      "Requirement already satisfied: MarkupSafe>=2.0 in /Users/kyh/study/deep-learning-study/venv/lib/python3.10/site-packages (from jinja2->torch>=1.10.0->laser_encoders) (2.1.3)\r\n",
      "Requirement already satisfied: mpmath>=0.19 in /Users/kyh/study/deep-learning-study/venv/lib/python3.10/site-packages (from sympy->torch>=1.10.0->laser_encoders) (1.3.0)\r\n",
      "\u001B[33mDEPRECATION: omegaconf 2.0.6 has a non-standard dependency specifier PyYAML>=5.1.*. pip 23.3 will enforce this behaviour change. A possible replacement is to upgrade to a newer version of omegaconf or contact the author to suggest that they release a version with a conforming dependency specifiers. Discussion can be found at https://github.com/pypa/pip/issues/12063\u001B[0m\u001B[33m\r\n",
      "\u001B[0m\r\n",
      "\u001B[1m[\u001B[0m\u001B[34;49mnotice\u001B[0m\u001B[1;39;49m]\u001B[0m\u001B[39;49m A new release of pip is available: \u001B[0m\u001B[31;49m23.2.1\u001B[0m\u001B[39;49m -> \u001B[0m\u001B[32;49m23.3.1\u001B[0m\r\n",
      "\u001B[1m[\u001B[0m\u001B[34;49mnotice\u001B[0m\u001B[1;39;49m]\u001B[0m\u001B[39;49m To update, run: \u001B[0m\u001B[32;49mpip install --upgrade pip\u001B[0m\r\n"
     ]
    }
   ],
   "source": [
    "!pip install laser_encoders"
   ]
  },
  {
   "cell_type": "code",
   "execution_count": 18,
   "outputs": [],
   "source": [
    "import pandas as pd"
   ],
   "metadata": {
    "collapsed": false
   }
  },
  {
   "cell_type": "code",
   "execution_count": 19,
   "outputs": [],
   "source": [
    "products_df = pd.read_json('../data/doc2vec/products.json')\n",
    "products_df.fillna(\"\",inplace=True)\n",
    "\n",
    "products_df['item_name'] = products_df['item_name'].replace(r'\\s+', ' ', regex=True).str.strip()\n",
    "\n",
    "products_df['all_keywords'] = products_df['item_name']\n",
    "\n",
    "all_keywords = products_df['all_keywords'].to_list()"
   ],
   "metadata": {
    "collapsed": false
   }
  },
  {
   "cell_type": "code",
   "execution_count": 20,
   "outputs": [
    {
     "name": "stdout",
     "output_type": "stream",
     "text": [
      "2023-12-11 23:31:55,942 | INFO | laser_encoders.download_models |  - laser2.spm already downloaded\n",
      "2023-12-11 23:31:56,004 | INFO | laser_encoders.download_models |  - laser2.pt already downloaded\n",
      "2023-12-11 23:31:56,005 | INFO | laser_encoders.download_models |  - laser2.spm already downloaded\n",
      "2023-12-11 23:31:56,005 | INFO | laser_encoders.download_models |  - laser2.cvocab already downloaded\n"
     ]
    },
    {
     "data": {
      "text/plain": "array([[ 3.59080769e-02,  2.77767517e-02,  1.81000200e-04, ...,\n         1.79570669e-03,  3.25060450e-02,  3.36506846e-03],\n       [ 1.53887821e-02,  1.38554182e-02,  1.33780099e-03, ...,\n         2.33487831e-03,  1.57281328e-02,  1.67995524e-02],\n       [ 1.52062438e-02,  1.36953723e-02,  6.57744749e-05, ...,\n         2.13869382e-03,  1.65829882e-02,  1.61777623e-02],\n       ...,\n       [ 3.78165506e-02,  2.46402714e-03, -1.90373728e-04, ...,\n         6.14305376e-04,  2.11410448e-02,  4.40969504e-03],\n       [-1.02964730e-03, -1.61751290e-03,  2.29681566e-04, ...,\n         5.74695086e-03,  1.82199990e-03,  1.26237385e-02],\n       [ 1.50853395e-02,  5.43154636e-03, -1.20371900e-04, ...,\n         6.71616662e-03,  2.19802875e-02,  3.23873013e-02]], dtype=float32)"
     },
     "execution_count": 20,
     "metadata": {},
     "output_type": "execute_result"
    }
   ],
   "source": [
    "import datetime\n",
    "from laser_encoders import LaserEncoderPipeline\n",
    "\n",
    "encoder = LaserEncoderPipeline(lang=\"korean\")\n",
    "embeddings = encoder.encode_sentences(all_keywords)\n",
    "embeddings"
   ],
   "metadata": {
    "collapsed": false
   }
  },
  {
   "cell_type": "code",
   "execution_count": 21,
   "outputs": [
    {
     "name": "stdout",
     "output_type": "stream",
     "text": [
      "completed: 2023-12-12 00:01:51.581247\n"
     ]
    }
   ],
   "source": [
    "products_df['laser_embeddings_1024'] = embeddings.tolist()\n",
    "\n",
    "laser_embeddings_1024_products_df = products_df[['item_no', 'laser_embeddings_1024']].sort_values(by=['item_no'], ascending=True)\n",
    "\n",
    "laser_embeddings_1024_products_df.to_json(\n",
    "    '../data/doc2vec/laser_embeddings_1024_2.json',\n",
    "    orient=\"records\"\n",
    ")\n",
    "\n",
    "print(f'completed: {datetime.datetime.now()}')"
   ],
   "metadata": {
    "collapsed": false
   }
  },
  {
   "cell_type": "code",
   "execution_count": 1,
   "outputs": [],
   "source": [
    "# embeddings = encoder.encode_sentences(['카인더베이비'])\n",
    "\n",
    "# products_df"
   ],
   "metadata": {
    "collapsed": false
   }
  },
  {
   "cell_type": "code",
   "execution_count": 23,
   "outputs": [],
   "source": [
    "import json\n",
    "\n",
    "test_embeddings = encoder.encode_sentences(['디폴트벨류 아이보리'])\n",
    "\n",
    "json_file_path = '../data/doc2vec/test_embeddings.json'\n",
    "with open(json_file_path, 'w') as json_file:\n",
    "    json.dump(test_embeddings.tolist(), json_file)"
   ],
   "metadata": {
    "collapsed": false
   }
  },
  {
   "cell_type": "code",
   "execution_count": 24,
   "outputs": [],
   "source": [
    "test_embeddings = encoder.encode_sentences(['카인더베이비'])\n",
    "\n",
    "json_file_path = '../data/doc2vec/test_embeddings2.json'\n",
    "with open(json_file_path, 'w') as json_file:\n",
    "    json.dump(test_embeddings.tolist(), json_file)"
   ],
   "metadata": {
    "collapsed": false
   }
  },
  {
   "cell_type": "code",
   "execution_count": 24,
   "outputs": [],
   "source": [],
   "metadata": {
    "collapsed": false
   }
  }
 ],
 "metadata": {
  "kernelspec": {
   "display_name": "Python 3",
   "language": "python",
   "name": "python3"
  },
  "language_info": {
   "codemirror_mode": {
    "name": "ipython",
    "version": 2
   },
   "file_extension": ".py",
   "mimetype": "text/x-python",
   "name": "python",
   "nbconvert_exporter": "python",
   "pygments_lexer": "ipython2",
   "version": "2.7.6"
  }
 },
 "nbformat": 4,
 "nbformat_minor": 0
}
