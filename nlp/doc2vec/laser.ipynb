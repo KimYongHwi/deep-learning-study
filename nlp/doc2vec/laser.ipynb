{
 "cells": [
  {
   "cell_type": "code",
   "execution_count": 17,
   "metadata": {
    "collapsed": true
   },
   "outputs": [
    {
     "name": "stdout",
     "output_type": "stream",
     "text": [
      "Requirement already satisfied: laser_encoders in /Users/kyh/study/deep-learning-study/venv/lib/python3.10/site-packages (0.0.1)\r\n",
      "Requirement already satisfied: sacremoses==0.1.0 in /Users/kyh/study/deep-learning-study/venv/lib/python3.10/site-packages (from laser_encoders) (0.1.0)\r\n",
      "Requirement already satisfied: unicategories>=0.1.2 in /Users/kyh/study/deep-learning-study/venv/lib/python3.10/site-packages (from laser_encoders) (0.1.2)\r\n",
      "Requirement already satisfied: sentencepiece>=0.1.99 in /Users/kyh/study/deep-learning-study/venv/lib/python3.10/site-packages (from laser_encoders) (0.1.99)\r\n",
      "Requirement already satisfied: numpy>=1.21.3 in /Users/kyh/study/deep-learning-study/venv/lib/python3.10/site-packages (from laser_encoders) (1.25.2)\r\n",
      "Requirement already satisfied: torch>=1.10.0 in /Users/kyh/study/deep-learning-study/venv/lib/python3.10/site-packages (from laser_encoders) (2.1.1)\r\n",
      "Requirement already satisfied: fairseq>=0.12.2 in /Users/kyh/study/deep-learning-study/venv/lib/python3.10/site-packages (from laser_encoders) (0.12.2)\r\n",
      "Requirement already satisfied: regex in /Users/kyh/study/deep-learning-study/venv/lib/python3.10/site-packages (from sacremoses==0.1.0->laser_encoders) (2023.8.8)\r\n",
      "Requirement already satisfied: click in /Users/kyh/study/deep-learning-study/venv/lib/python3.10/site-packages (from sacremoses==0.1.0->laser_encoders) (8.1.7)\r\n",
      "Requirement already satisfied: joblib in /Users/kyh/study/deep-learning-study/venv/lib/python3.10/site-packages (from sacremoses==0.1.0->laser_encoders) (1.3.2)\r\n",
      "Requirement already satisfied: tqdm in /Users/kyh/study/deep-learning-study/venv/lib/python3.10/site-packages (from sacremoses==0.1.0->laser_encoders) (4.66.1)\r\n",
      "Requirement already satisfied: cffi in /Users/kyh/study/deep-learning-study/venv/lib/python3.10/site-packages (from fairseq>=0.12.2->laser_encoders) (1.15.1)\r\n",
      "Requirement already satisfied: cython in /Users/kyh/study/deep-learning-study/venv/lib/python3.10/site-packages (from fairseq>=0.12.2->laser_encoders) (3.0.6)\r\n",
      "Requirement already satisfied: hydra-core<1.1,>=1.0.7 in /Users/kyh/study/deep-learning-study/venv/lib/python3.10/site-packages (from fairseq>=0.12.2->laser_encoders) (1.0.7)\r\n",
      "Requirement already satisfied: omegaconf<2.1 in /Users/kyh/study/deep-learning-study/venv/lib/python3.10/site-packages (from fairseq>=0.12.2->laser_encoders) (2.0.6)\r\n",
      "Requirement already satisfied: sacrebleu>=1.4.12 in /Users/kyh/study/deep-learning-study/venv/lib/python3.10/site-packages (from fairseq>=0.12.2->laser_encoders) (2.3.3)\r\n",
      "Requirement already satisfied: bitarray in /Users/kyh/study/deep-learning-study/venv/lib/python3.10/site-packages (from fairseq>=0.12.2->laser_encoders) (2.8.5)\r\n",
      "Requirement already satisfied: torchaudio>=0.8.0 in /Users/kyh/study/deep-learning-study/venv/lib/python3.10/site-packages (from fairseq>=0.12.2->laser_encoders) (2.1.1)\r\n",
      "Requirement already satisfied: filelock in /Users/kyh/study/deep-learning-study/venv/lib/python3.10/site-packages (from torch>=1.10.0->laser_encoders) (3.12.3)\r\n",
      "Requirement already satisfied: typing-extensions in /Users/kyh/study/deep-learning-study/venv/lib/python3.10/site-packages (from torch>=1.10.0->laser_encoders) (4.7.1)\r\n",
      "Requirement already satisfied: sympy in /Users/kyh/study/deep-learning-study/venv/lib/python3.10/site-packages (from torch>=1.10.0->laser_encoders) (1.12)\r\n",
      "Requirement already satisfied: networkx in /Users/kyh/study/deep-learning-study/venv/lib/python3.10/site-packages (from torch>=1.10.0->laser_encoders) (3.1)\r\n",
      "Requirement already satisfied: jinja2 in /Users/kyh/study/deep-learning-study/venv/lib/python3.10/site-packages (from torch>=1.10.0->laser_encoders) (3.1.2)\r\n",
      "Requirement already satisfied: fsspec in /Users/kyh/study/deep-learning-study/venv/lib/python3.10/site-packages (from torch>=1.10.0->laser_encoders) (2023.9.0)\r\n",
      "Requirement already satisfied: appdirs in /Users/kyh/study/deep-learning-study/venv/lib/python3.10/site-packages (from unicategories>=0.1.2->laser_encoders) (1.4.4)\r\n",
      "Requirement already satisfied: antlr4-python3-runtime==4.8 in /Users/kyh/study/deep-learning-study/venv/lib/python3.10/site-packages (from hydra-core<1.1,>=1.0.7->fairseq>=0.12.2->laser_encoders) (4.8)\r\n",
      "Requirement already satisfied: PyYAML>=5.1.* in /Users/kyh/study/deep-learning-study/venv/lib/python3.10/site-packages (from omegaconf<2.1->fairseq>=0.12.2->laser_encoders) (6.0.1)\r\n",
      "Requirement already satisfied: portalocker in /Users/kyh/study/deep-learning-study/venv/lib/python3.10/site-packages (from sacrebleu>=1.4.12->fairseq>=0.12.2->laser_encoders) (2.8.2)\r\n",
      "Requirement already satisfied: tabulate>=0.8.9 in /Users/kyh/study/deep-learning-study/venv/lib/python3.10/site-packages (from sacrebleu>=1.4.12->fairseq>=0.12.2->laser_encoders) (0.9.0)\r\n",
      "Requirement already satisfied: colorama in /Users/kyh/study/deep-learning-study/venv/lib/python3.10/site-packages (from sacrebleu>=1.4.12->fairseq>=0.12.2->laser_encoders) (0.4.6)\r\n",
      "Requirement already satisfied: lxml in /Users/kyh/study/deep-learning-study/venv/lib/python3.10/site-packages (from sacrebleu>=1.4.12->fairseq>=0.12.2->laser_encoders) (4.9.3)\r\n",
      "Requirement already satisfied: pycparser in /Users/kyh/study/deep-learning-study/venv/lib/python3.10/site-packages (from cffi->fairseq>=0.12.2->laser_encoders) (2.21)\r\n",
      "Requirement already satisfied: MarkupSafe>=2.0 in /Users/kyh/study/deep-learning-study/venv/lib/python3.10/site-packages (from jinja2->torch>=1.10.0->laser_encoders) (2.1.3)\r\n",
      "Requirement already satisfied: mpmath>=0.19 in /Users/kyh/study/deep-learning-study/venv/lib/python3.10/site-packages (from sympy->torch>=1.10.0->laser_encoders) (1.3.0)\r\n",
      "\u001B[33mDEPRECATION: omegaconf 2.0.6 has a non-standard dependency specifier PyYAML>=5.1.*. pip 23.3 will enforce this behaviour change. A possible replacement is to upgrade to a newer version of omegaconf or contact the author to suggest that they release a version with a conforming dependency specifiers. Discussion can be found at https://github.com/pypa/pip/issues/12063\u001B[0m\u001B[33m\r\n",
      "\u001B[0m\r\n",
      "\u001B[1m[\u001B[0m\u001B[34;49mnotice\u001B[0m\u001B[1;39;49m]\u001B[0m\u001B[39;49m A new release of pip is available: \u001B[0m\u001B[31;49m23.2.1\u001B[0m\u001B[39;49m -> \u001B[0m\u001B[32;49m23.3.1\u001B[0m\r\n",
      "\u001B[1m[\u001B[0m\u001B[34;49mnotice\u001B[0m\u001B[1;39;49m]\u001B[0m\u001B[39;49m To update, run: \u001B[0m\u001B[32;49mpip install --upgrade pip\u001B[0m\r\n"
     ]
    }
   ],
   "source": [
    "!pip install laser_encoders"
   ]
  },
  {
   "cell_type": "code",
   "execution_count": 18,
   "outputs": [],
   "source": [
    "import pandas as pd"
   ],
   "metadata": {
    "collapsed": false
   }
  },
  {
   "cell_type": "code",
   "execution_count": 19,
   "outputs": [],
   "source": [
    "products_df = pd.read_json('../data/doc2vec/products.json')\n",
    "products_df.fillna(\"\",inplace=True)\n",
    "\n",
    "all_keywords = products_df['item_name'].to_list()"
   ],
   "metadata": {
    "collapsed": false
   }
  },
  {
   "cell_type": "code",
   "execution_count": 20,
   "outputs": [
    {
     "name": "stdout",
     "output_type": "stream",
     "text": [
      "2023-12-11 23:31:55,942 | INFO | laser_encoders.download_models |  - laser2.spm already downloaded\n",
      "2023-12-11 23:31:56,004 | INFO | laser_encoders.download_models |  - laser2.pt already downloaded\n",
      "2023-12-11 23:31:56,005 | INFO | laser_encoders.download_models |  - laser2.spm already downloaded\n",
      "2023-12-11 23:31:56,005 | INFO | laser_encoders.download_models |  - laser2.cvocab already downloaded\n"
     ]
    },
    {
     "data": {
      "text/plain": "array([[ 3.59080769e-02,  2.77767517e-02,  1.81000200e-04, ...,\n         1.79570669e-03,  3.25060450e-02,  3.36506846e-03],\n       [ 1.53887821e-02,  1.38554182e-02,  1.33780099e-03, ...,\n         2.33487831e-03,  1.57281328e-02,  1.67995524e-02],\n       [ 1.52062438e-02,  1.36953723e-02,  6.57744749e-05, ...,\n         2.13869382e-03,  1.65829882e-02,  1.61777623e-02],\n       ...,\n       [ 3.78165506e-02,  2.46402714e-03, -1.90373728e-04, ...,\n         6.14305376e-04,  2.11410448e-02,  4.40969504e-03],\n       [-1.02964730e-03, -1.61751290e-03,  2.29681566e-04, ...,\n         5.74695086e-03,  1.82199990e-03,  1.26237385e-02],\n       [ 1.50853395e-02,  5.43154636e-03, -1.20371900e-04, ...,\n         6.71616662e-03,  2.19802875e-02,  3.23873013e-02]], dtype=float32)"
     },
     "execution_count": 20,
     "metadata": {},
     "output_type": "execute_result"
    }
   ],
   "source": [
    "import datetime\n",
    "from laser_encoders import LaserEncoderPipeline\n",
    "\n",
    "encoder = LaserEncoderPipeline(lang=\"korean\")\n",
    "\n",
    "embeddings = encoder.encode_sentences(all_keywords)\n",
    "embeddings"
   ],
   "metadata": {
    "collapsed": false
   }
  },
  {
   "cell_type": "code",
   "execution_count": 21,
   "outputs": [
    {
     "name": "stdout",
     "output_type": "stream",
     "text": [
      "completed: 2023-12-12 00:01:51.581247\n"
     ]
    }
   ],
   "source": [
    "products_df['laser_embeddings_1024'] = embeddings.tolist()\n",
    "\n",
    "laser_embeddings_1024_products_df = products_df[['item_no', 'laser_embeddings_1024']].sort_values(by=['item_no'], ascending=True)\n",
    "\n",
    "laser_embeddings_1024_products_df.to_json(\n",
    "    '../data/doc2vec/laser_embeddings_1024_2.json',\n",
    "    orient=\"records\"\n",
    ")\n",
    "\n",
    "print(f'completed: {datetime.datetime.now()}')"
   ],
   "metadata": {
    "collapsed": false
   }
  },
  {
   "cell_type": "code",
   "execution_count": 22,
   "outputs": [
    {
     "data": {
      "text/plain": "      search_keyword                           generated_search_filters  \\\n0                     멜란지그레이 색상 라이트그레이 그레이 블랙 아이보리 오리 디테일 패딩 오리털 후드 ...   \n1                     아이보리 색상 M 사이즈 언더웨어 사이즈 상의 M 95 L L 100 오리 디테일 ...   \n2                     네이비 색상 M 사이즈 언더웨어 사이즈 상의 M 95 L L 100 오리 디테일 패...   \n3                     그레이 색상 M 사이즈 언더웨어 사이즈 상의 M 95 L L 100 오리 디테일 패...   \n4                                                         네이비 색상 그레이 블랙   \n...              ...                                                ...   \n49995                 LINEN 소재 의류 린넨 BLU 색상 블루 GREY 그레이 LILAC 라벤더 사용...   \n49996                                                                     \n49997                                                                     \n49998                                                                     \n49999                 블랙 색상 S 사이즈 언더웨어 M 자수 패턴 사이즈 상의 S 90 M 95 L L ...   \n\n      management_category_names front_brand_name_kor  \\\n0                                              디폴트벨류   \n1                                              디폴트벨류   \n2                                              디폴트벨류   \n3                                              디폴트벨류   \n4                                              디폴트벨류   \n...                         ...                  ...   \n49995                                            르니나   \n49996                                             두닷   \n49997                                          쏭스튜디오   \n49998                                             두닷   \n49999                                         세컨모놀로그   \n\n                              item_name front_brand_name_eng  category_names  \\\n0                           1996 _2PACK        DEFAULT VALUE                   \n1                                1996 _        DEFAULT VALUE                   \n2                                1996 _        DEFAULT VALUE                   \n3                                1996 _        DEFAULT VALUE                   \n4                                _2PACK        DEFAULT VALUE                   \n...                                 ...                  ...             ...   \n49995  FAUVE linen stripe shirt_2colors               LENINA      EXCLUSIVE    \n49996                               400                dodot                   \n49997        VIENNA ZIPPER WALLET CREAM          SSONGSTUDIO                   \n49998                               300                dodot                   \n49999                     _SETS019BLACK           SECONDMONO                   \n\n       item_no  filters                                       all_keywords  \\\n0      2366971           디폴트벨류 DEFAULT VALUE 1996 _2PACK 멜란지그레이 색상 라이트그...   \n1      2366970           디폴트벨류 DEFAULT VALUE 1996 _ 아이보리 색상 M 사이즈 언더웨어 ...   \n2      2366969           디폴트벨류 DEFAULT VALUE 1996 _ 네이비 색상 M 사이즈 언더웨어 사...   \n3      2366968           디폴트벨류 DEFAULT VALUE 1996 _ 그레이 색상 M 사이즈 언더웨어 사...   \n4      2366953                    디폴트벨류 DEFAULT VALUE _2PACK 네이비 색상 그레이 블랙   \n...        ...      ...                                                ...   \n49995  2297134           르니나 LENINA FAUVE linen stripe shirt_2colors EX...   \n49996  2297133                                                두닷 dodot 400   \n49997  2297132  천연가죽 무지  쏭스튜디오 SSONGSTUDIO VIENNA ZIPPER WALLET CREAM 천...   \n49998  2297131                                                두닷 dodot 300   \n49999  2297130           세컨모놀로그 SECONDMONO _SETS019BLACK 블랙 색상 S 사이즈 언더...   \n\n                                   laser_embeddings_1024  \n0      [0.03590807691216469, 0.027776751667261124, 0....  \n1      [0.015388782136142254, 0.01385541819036007, 0....  \n2      [0.015206243842840195, 0.013695372268557549, 6...  \n3      [0.01833830215036869, 0.014604819007217884, -0...  \n4      [0.03231368958950043, 0.0010428840760141611, 0...  \n...                                                  ...  \n49995  [0.05317132547497749, -0.00033761924714781344,...  \n49996  [0.0038564475253224373, -0.0008100894629023969...  \n49997  [0.037816550582647324, 0.0024640271440148354, ...  \n49998  [-0.0010296473046764731, -0.001617512898519635...  \n49999  [0.015085339546203613, 0.005431546363979578, -...  \n\n[50000 rows x 11 columns]",
      "text/html": "<div>\n<style scoped>\n    .dataframe tbody tr th:only-of-type {\n        vertical-align: middle;\n    }\n\n    .dataframe tbody tr th {\n        vertical-align: top;\n    }\n\n    .dataframe thead th {\n        text-align: right;\n    }\n</style>\n<table border=\"1\" class=\"dataframe\">\n  <thead>\n    <tr style=\"text-align: right;\">\n      <th></th>\n      <th>search_keyword</th>\n      <th>generated_search_filters</th>\n      <th>management_category_names</th>\n      <th>front_brand_name_kor</th>\n      <th>item_name</th>\n      <th>front_brand_name_eng</th>\n      <th>category_names</th>\n      <th>item_no</th>\n      <th>filters</th>\n      <th>all_keywords</th>\n      <th>laser_embeddings_1024</th>\n    </tr>\n  </thead>\n  <tbody>\n    <tr>\n      <th>0</th>\n      <td></td>\n      <td>멜란지그레이 색상 라이트그레이 그레이 블랙 아이보리 오리 디테일 패딩 오리털 후드 ...</td>\n      <td></td>\n      <td>디폴트벨류</td>\n      <td>1996 _2PACK</td>\n      <td>DEFAULT VALUE</td>\n      <td></td>\n      <td>2366971</td>\n      <td></td>\n      <td>디폴트벨류 DEFAULT VALUE 1996 _2PACK 멜란지그레이 색상 라이트그...</td>\n      <td>[0.03590807691216469, 0.027776751667261124, 0....</td>\n    </tr>\n    <tr>\n      <th>1</th>\n      <td></td>\n      <td>아이보리 색상 M 사이즈 언더웨어 사이즈 상의 M 95 L L 100 오리 디테일 ...</td>\n      <td></td>\n      <td>디폴트벨류</td>\n      <td>1996 _</td>\n      <td>DEFAULT VALUE</td>\n      <td></td>\n      <td>2366970</td>\n      <td></td>\n      <td>디폴트벨류 DEFAULT VALUE 1996 _ 아이보리 색상 M 사이즈 언더웨어 ...</td>\n      <td>[0.015388782136142254, 0.01385541819036007, 0....</td>\n    </tr>\n    <tr>\n      <th>2</th>\n      <td></td>\n      <td>네이비 색상 M 사이즈 언더웨어 사이즈 상의 M 95 L L 100 오리 디테일 패...</td>\n      <td></td>\n      <td>디폴트벨류</td>\n      <td>1996 _</td>\n      <td>DEFAULT VALUE</td>\n      <td></td>\n      <td>2366969</td>\n      <td></td>\n      <td>디폴트벨류 DEFAULT VALUE 1996 _ 네이비 색상 M 사이즈 언더웨어 사...</td>\n      <td>[0.015206243842840195, 0.013695372268557549, 6...</td>\n    </tr>\n    <tr>\n      <th>3</th>\n      <td></td>\n      <td>그레이 색상 M 사이즈 언더웨어 사이즈 상의 M 95 L L 100 오리 디테일 패...</td>\n      <td></td>\n      <td>디폴트벨류</td>\n      <td>1996 _</td>\n      <td>DEFAULT VALUE</td>\n      <td></td>\n      <td>2366968</td>\n      <td></td>\n      <td>디폴트벨류 DEFAULT VALUE 1996 _ 그레이 색상 M 사이즈 언더웨어 사...</td>\n      <td>[0.01833830215036869, 0.014604819007217884, -0...</td>\n    </tr>\n    <tr>\n      <th>4</th>\n      <td></td>\n      <td>네이비 색상 그레이 블랙</td>\n      <td></td>\n      <td>디폴트벨류</td>\n      <td>_2PACK</td>\n      <td>DEFAULT VALUE</td>\n      <td></td>\n      <td>2366953</td>\n      <td></td>\n      <td>디폴트벨류 DEFAULT VALUE _2PACK 네이비 색상 그레이 블랙</td>\n      <td>[0.03231368958950043, 0.0010428840760141611, 0...</td>\n    </tr>\n    <tr>\n      <th>...</th>\n      <td>...</td>\n      <td>...</td>\n      <td>...</td>\n      <td>...</td>\n      <td>...</td>\n      <td>...</td>\n      <td>...</td>\n      <td>...</td>\n      <td>...</td>\n      <td>...</td>\n      <td>...</td>\n    </tr>\n    <tr>\n      <th>49995</th>\n      <td></td>\n      <td>LINEN 소재 의류 린넨 BLU 색상 블루 GREY 그레이 LILAC 라벤더 사용...</td>\n      <td></td>\n      <td>르니나</td>\n      <td>FAUVE linen stripe shirt_2colors</td>\n      <td>LENINA</td>\n      <td>EXCLUSIVE</td>\n      <td>2297134</td>\n      <td></td>\n      <td>르니나 LENINA FAUVE linen stripe shirt_2colors EX...</td>\n      <td>[0.05317132547497749, -0.00033761924714781344,...</td>\n    </tr>\n    <tr>\n      <th>49996</th>\n      <td></td>\n      <td></td>\n      <td></td>\n      <td>두닷</td>\n      <td>400</td>\n      <td>dodot</td>\n      <td></td>\n      <td>2297133</td>\n      <td></td>\n      <td>두닷 dodot 400</td>\n      <td>[0.0038564475253224373, -0.0008100894629023969...</td>\n    </tr>\n    <tr>\n      <th>49997</th>\n      <td></td>\n      <td></td>\n      <td></td>\n      <td>쏭스튜디오</td>\n      <td>VIENNA ZIPPER WALLET CREAM</td>\n      <td>SSONGSTUDIO</td>\n      <td></td>\n      <td>2297132</td>\n      <td>천연가죽 무지</td>\n      <td>쏭스튜디오 SSONGSTUDIO VIENNA ZIPPER WALLET CREAM 천...</td>\n      <td>[0.037816550582647324, 0.0024640271440148354, ...</td>\n    </tr>\n    <tr>\n      <th>49998</th>\n      <td></td>\n      <td></td>\n      <td></td>\n      <td>두닷</td>\n      <td>300</td>\n      <td>dodot</td>\n      <td></td>\n      <td>2297131</td>\n      <td></td>\n      <td>두닷 dodot 300</td>\n      <td>[-0.0010296473046764731, -0.001617512898519635...</td>\n    </tr>\n    <tr>\n      <th>49999</th>\n      <td></td>\n      <td>블랙 색상 S 사이즈 언더웨어 M 자수 패턴 사이즈 상의 S 90 M 95 L L ...</td>\n      <td></td>\n      <td>세컨모놀로그</td>\n      <td>_SETS019BLACK</td>\n      <td>SECONDMONO</td>\n      <td></td>\n      <td>2297130</td>\n      <td></td>\n      <td>세컨모놀로그 SECONDMONO _SETS019BLACK 블랙 색상 S 사이즈 언더...</td>\n      <td>[0.015085339546203613, 0.005431546363979578, -...</td>\n    </tr>\n  </tbody>\n</table>\n<p>50000 rows × 11 columns</p>\n</div>"
     },
     "execution_count": 22,
     "metadata": {},
     "output_type": "execute_result"
    }
   ],
   "source": [
    "# embeddings = encoder.encode_sentences(['카인더베이비'])\n",
    "\n",
    "products_df"
   ],
   "metadata": {
    "collapsed": false
   }
  },
  {
   "cell_type": "code",
   "execution_count": 23,
   "outputs": [],
   "source": [
    "import json\n",
    "\n",
    "test_embeddings = encoder.encode_sentences(['디폴트벨류 아이보리'])\n",
    "\n",
    "json_file_path = '../data/doc2vec/test_embeddings.json'\n",
    "with open(json_file_path, 'w') as json_file:\n",
    "    json.dump(test_embeddings.tolist(), json_file)"
   ],
   "metadata": {
    "collapsed": false
   }
  },
  {
   "cell_type": "code",
   "execution_count": 24,
   "outputs": [],
   "source": [
    "test_embeddings = encoder.encode_sentences(['카인더베이비'])\n",
    "\n",
    "json_file_path = '../data/doc2vec/test_embeddings2.json'\n",
    "with open(json_file_path, 'w') as json_file:\n",
    "    json.dump(test_embeddings.tolist(), json_file)"
   ],
   "metadata": {
    "collapsed": false
   }
  },
  {
   "cell_type": "code",
   "execution_count": 24,
   "outputs": [],
   "source": [],
   "metadata": {
    "collapsed": false
   }
  }
 ],
 "metadata": {
  "kernelspec": {
   "display_name": "Python 3",
   "language": "python",
   "name": "python3"
  },
  "language_info": {
   "codemirror_mode": {
    "name": "ipython",
    "version": 2
   },
   "file_extension": ".py",
   "mimetype": "text/x-python",
   "name": "python",
   "nbconvert_exporter": "python",
   "pygments_lexer": "ipython2",
   "version": "2.7.6"
  }
 },
 "nbformat": 4,
 "nbformat_minor": 0
}
