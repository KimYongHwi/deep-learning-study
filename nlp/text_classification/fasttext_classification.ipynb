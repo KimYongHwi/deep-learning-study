{
 "cells": [
  {
   "cell_type": "markdown",
   "metadata": {},
   "source": [
    "### Category, Brand Text classification"
   ]
  },
  {
   "cell_type": "code",
   "execution_count": 25,
   "metadata": {},
   "outputs": [],
   "source": [
    "import fasttext\n",
    "import pandas as pd\n",
    "import torch\n",
    "from konlpy.tag import Okt\n",
    "from sklearn.preprocessing import LabelEncoder\n",
    "from sklearn.model_selection import train_test_split\n",
    "from sklearn.metrics import accuracy_score\n",
    "from torch.utils.data import DataLoader, Dataset\n",
    "from torchtext.vocab import build_vocab_from_iterator\n",
    "from nltk import ngrams"
   ]
  },
  {
   "cell_type": "code",
   "execution_count": 26,
   "metadata": {},
   "outputs": [],
   "source": [
    "keyword_types_df = pd.read_csv('../data/text_classification/keyword_types.csv')\n",
    "similar_keyword_df = pd.read_csv('../data/text_classification/similar_keyword.csv')"
   ]
  },
  {
   "cell_type": "markdown",
   "metadata": {},
   "source": [
    "### Merge Data"
   ]
  },
  {
   "cell_type": "code",
   "execution_count": 27,
   "metadata": {},
   "outputs": [
    {
     "name": "stdout",
     "output_type": "stream",
     "text": [
      "35681\n",
      "4705\n"
     ]
    }
   ],
   "source": [
    "print(len(keyword_types_df[keyword_types_df['label'] == 'brand']))\n",
    "print(len(keyword_types_df[keyword_types_df['label'] == 'category']))"
   ]
  },
  {
   "cell_type": "code",
   "execution_count": 28,
   "metadata": {},
   "outputs": [
    {
     "name": "stdout",
     "output_type": "stream",
     "text": [
      "35681\n",
      "40039\n"
     ]
    }
   ],
   "source": [
    "category_keywords = [keyword for keywords in similar_keyword_df['similar_keyword'].to_list() for keyword in keywords.split(',') if keyword != '']\n",
    "category_labels = ['category' for _ in category_keywords]\n",
    "\n",
    "category_df = pd.DataFrame({'keyword': category_keywords, 'label': category_labels})\n",
    "\n",
    "keyword_df = pd.concat([keyword_types_df, category_df])\n",
    "\n",
    "\n",
    "# keyword_df.drop_duplicates(inplace=True)\n",
    "keyword_df['keyword'] = keyword_df['keyword'].astype('str')\n",
    "keyword_df = keyword_df.sample(frac = 1)\n",
    "\n",
    "print(len(keyword_df[keyword_df['label'] == 'brand']))\n",
    "print(len(keyword_df[keyword_df['label'] == 'category']))\n"
   ]
  },
  {
   "cell_type": "markdown",
   "metadata": {},
   "source": [
    "### Train, Test split"
   ]
  },
  {
   "cell_type": "code",
   "execution_count": 29,
   "metadata": {},
   "outputs": [],
   "source": [
    "corpus = keyword_df['keyword'].to_list()\n",
    "labels = keyword_df['label'].to_list()\n",
    "\n",
    "with open(\"../data/text_classification/category_brand_keyword.txt\", \"w\", encoding=\"utf-8\") as file:\n",
    "    for text, label in zip(corpus, labels):\n",
    "        file.write(f\"__label__{label} {text}\\n\")\n",
    "\n",
    "X_train, X_test, y_train, y_test = train_test_split(corpus, labels, test_size=0.2, random_state=42)"
   ]
  },
  {
   "cell_type": "code",
   "execution_count": 33,
   "metadata": {},
   "outputs": [
    {
     "name": "stderr",
     "output_type": "stream",
     "text": [
      "Read 0M words\n",
      "Number of words:  40634\n",
      "Number of labels: 2\n",
      "Progress:  99.9% words/sec/thread: 1324050 lr:  0.000544 avg.loss:  0.008020 ETA:   0h 0m 0s"
     ]
    },
    {
     "name": "stdout",
     "output_type": "stream",
     "text": [
      "Accuracy: 99.97%\n"
     ]
    },
    {
     "name": "stderr",
     "output_type": "stream",
     "text": [
      "Progress: 100.0% words/sec/thread: 1318389 lr:  0.000000 avg.loss:  0.008012 ETA:   0h 0m 0s\n"
     ]
    }
   ],
   "source": [
    "model = fasttext.train_supervised(\"category_brand_keyword.txt\", lr=0.5, epoch=1000, wordNgrams=1, ws=1)"
   ]
  },
  {
   "cell_type": "code",
   "execution_count": 34,
   "metadata": {},
   "outputs": [
    {
     "name": "stdout",
     "output_type": "stream",
     "text": [
      "Accuracy: 99.97%\n"
     ]
    }
   ],
   "source": [
    "# 모델 평가 및 정확도 계산\n",
    "y_pred = [model.predict(text)[0][0].split(\"__label__\")[1] for text in X_test]\n",
    "accuracy = accuracy_score(y_test, y_pred)\n",
    "print(f\"Accuracy: {accuracy * 100:.2f}%\")"
   ]
  },
  {
   "cell_type": "code",
   "execution_count": 42,
   "metadata": {},
   "outputs": [
    {
     "name": "stdout",
     "output_type": "stream",
     "text": [
      "이십삼점오: brand\n",
      "니트: category\n",
      "바람막이: category\n",
      "후드티: brand\n",
      "블랭크룸: brand\n",
      "가디건: category\n",
      "키링: category\n",
      "모자: category\n",
      "후드집업: category\n"
     ]
    }
   ],
   "source": [
    "# 새로운 텍스트에 대한 예측\n",
    "new_texts = [\"이십삼점오\", \"니트\", \"바람막이\", \"후드티\", \"블랭크룸\", \"가디건\", \"키링\", \"모자\", \"후드집업\"]\n",
    "\n",
    "for new_text in new_texts:\n",
    "    predicted_label = model.predict(new_text)[0][0].split(\"__label__\")[1]\n",
    "    print(f\"{new_text}: {predicted_label}\")"
   ]
  }
 ],
 "metadata": {
  "kernelspec": {
   "display_name": "Python 3",
   "language": "python",
   "name": "python3"
  },
  "language_info": {
   "codemirror_mode": {
    "name": "ipython",
    "version": 3
   },
   "file_extension": ".py",
   "mimetype": "text/x-python",
   "name": "python",
   "nbconvert_exporter": "python",
   "pygments_lexer": "ipython3",
   "version": "3.10.10"
  },
  "orig_nbformat": 4
 },
 "nbformat": 4,
 "nbformat_minor": 2
}
