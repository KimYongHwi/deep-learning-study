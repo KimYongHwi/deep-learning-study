{
 "cells": [
  {
   "cell_type": "markdown",
   "metadata": {},
   "source": [
    "### Category, Brand Text classification"
   ]
  },
  {
   "cell_type": "code",
   "execution_count": 76,
   "metadata": {},
   "outputs": [],
   "source": [
    "import fasttext\n",
    "import pandas as pd\n",
    "from sklearn.model_selection import train_test_split\n",
    "from sklearn.metrics import accuracy_score"
   ]
  },
  {
   "cell_type": "code",
   "execution_count": 77,
   "metadata": {
    "collapsed": false
   },
   "outputs": [],
   "source": [
    "keyword_df = pd.read_csv('../data/text_classification/brand_category_classification/keyword.csv')"
   ]
  },
  {
   "cell_type": "markdown",
   "metadata": {
    "collapsed": false
   },
   "source": [
    "#### Train, Test data split"
   ]
  },
  {
   "cell_type": "code",
   "execution_count": 78,
   "metadata": {
    "collapsed": false
   },
   "outputs": [],
   "source": [
    "corpus = keyword_df['keyword'].to_list()\n",
    "labels = keyword_df['label'].to_list()\n",
    "\n",
    "with open(\"../data/text_classification/brand_category_classification/brand_category_classification_label.txt\", \"w\", encoding=\"utf-8\") as file:\n",
    "    for text, label in zip(corpus, labels):\n",
    "        file.write(f\"__label__{label} {text}\\n\")\n",
    "\n",
    "X_train, X_test, y_train, y_test = train_test_split(corpus, labels, test_size=0.3, random_state=42)"
   ]
  },
  {
   "cell_type": "markdown",
   "metadata": {
    "collapsed": false
   },
   "source": [
    "#### Train"
   ]
  },
  {
   "cell_type": "code",
   "execution_count": 79,
   "metadata": {
    "collapsed": false
   },
   "outputs": [
    {
     "name": "stderr",
     "output_type": "stream",
     "text": [
      "Read 0M words\n",
      "Number of words:  86924\n",
      "Number of labels: 2\n",
      "Progress: 100.0% words/sec/thread: 1395638 lr:  0.000000 avg.loss:  0.049501 ETA:   0h 0m 0s1395546 lr:  0.183454 avg.loss:  0.064809 ETA:   0h 2m33s\n"
     ]
    }
   ],
   "source": [
    "model = fasttext.train_supervised(\n",
    "    \"../data/text_classification/brand_category_classification/brand_category_classification_label.txt\",\n",
    "    lr=0.5,\n",
    "    epoch=7000,\n",
    "    wordNgrams=1,\n",
    "    ws=1,\n",
    "    minCountLabel=1\n",
    ")"
   ]
  },
  {
   "cell_type": "code",
   "execution_count": 80,
   "metadata": {
    "collapsed": false
   },
   "outputs": [],
   "source": [
    "model.save_model(\"../model/text_classification/brand_category_classification/fasttext_model.bin\")"
   ]
  },
  {
   "cell_type": "markdown",
   "metadata": {
    "collapsed": false
   },
   "source": [
    "#### Test"
   ]
  },
  {
   "cell_type": "code",
   "execution_count": null,
   "metadata": {
    "collapsed": false
   },
   "outputs": [],
   "source": [
    "# 모델 평가 및 정확도 계산\n",
    "y_pred = [model.predict(text)[0][0].split(\"__label__\")[1] for text in X_test]\n",
    "accuracy = accuracy_score(y_test, y_pred)\n",
    "print(f\"Accuracy: {accuracy * 100:.2f}%\")"
   ]
  },
  {
   "cell_type": "markdown",
   "metadata": {
    "collapsed": false
   },
   "source": [
    "#### Predict"
   ]
  },
  {
   "cell_type": "code",
   "execution_count": 83,
   "metadata": {
    "collapsed": false
   },
   "outputs": [],
   "source": [
    "def predict(keywords):\n",
    "    result = {'keyword': [], 'predicted_label': []}\n",
    "\n",
    "    for keyword in keywords:\n",
    "        predicted_label = model.predict(keyword)[0][0].split(\"__label__\")[1]\n",
    "\n",
    "        result['keyword'].append(keyword)\n",
    "        result['predicted_label'].append(predicted_label)\n",
    "\n",
    "    return result"
   ]
  },
  {
   "cell_type": "code",
   "execution_count": 84,
   "metadata": {
    "collapsed": false
   },
   "outputs": [],
   "source": [
    "top_query_df = pd.read_csv('../data/text_classification/brand_category_classification/top_10000_query.csv')"
   ]
  },
  {
   "cell_type": "code",
   "execution_count": 85,
   "metadata": {
    "collapsed": false
   },
   "outputs": [
    {
     "name": "stdout",
     "output_type": "stream",
     "text": [
      "created predicts.csv, 2023-09-12 00:02:47.666222\n"
     ]
    }
   ],
   "source": [
    "import datetime\n",
    "\n",
    "current_time = datetime.datetime.now()\n",
    "\n",
    "test_keywords = top_query_df['keyword'].to_list()\n",
    "predict_df = pd.DataFrame.from_dict(predict(test_keywords))\n",
    "\n",
    "predict_df.to_csv('../model/text_classification/brand_category_classification/predicts.csv')\n",
    "\n",
    "print(f\"created predicts.csv, {current_time}\")"
   ]
  },
  {
   "cell_type": "code",
   "execution_count": 86,
   "metadata": {
    "collapsed": false
   },
   "outputs": [
    {
     "data": {
      "text/html": [
       "<div>\n",
       "<style scoped>\n",
       "    .dataframe tbody tr th:only-of-type {\n",
       "        vertical-align: middle;\n",
       "    }\n",
       "\n",
       "    .dataframe tbody tr th {\n",
       "        vertical-align: top;\n",
       "    }\n",
       "\n",
       "    .dataframe thead th {\n",
       "        text-align: right;\n",
       "    }\n",
       "</style>\n",
       "<table border=\"1\" class=\"dataframe\">\n",
       "  <thead>\n",
       "    <tr style=\"text-align: right;\">\n",
       "      <th></th>\n",
       "      <th>keyword</th>\n",
       "      <th>predicted_label</th>\n",
       "    </tr>\n",
       "  </thead>\n",
       "  <tbody>\n",
       "    <tr>\n",
       "      <th>0</th>\n",
       "      <td>이미스</td>\n",
       "      <td>brand</td>\n",
       "    </tr>\n",
       "    <tr>\n",
       "      <th>1</th>\n",
       "      <td>마뗑킴</td>\n",
       "      <td>brand</td>\n",
       "    </tr>\n",
       "    <tr>\n",
       "      <th>2</th>\n",
       "      <td>던스트</td>\n",
       "      <td>brand</td>\n",
       "    </tr>\n",
       "    <tr>\n",
       "      <th>3</th>\n",
       "      <td>키링</td>\n",
       "      <td>category</td>\n",
       "    </tr>\n",
       "    <tr>\n",
       "      <th>4</th>\n",
       "      <td>백팩</td>\n",
       "      <td>category</td>\n",
       "    </tr>\n",
       "    <tr>\n",
       "      <th>...</th>\n",
       "      <td>...</td>\n",
       "      <td>...</td>\n",
       "    </tr>\n",
       "    <tr>\n",
       "      <th>9995</th>\n",
       "      <td>발란</td>\n",
       "      <td>category</td>\n",
       "    </tr>\n",
       "    <tr>\n",
       "      <th>9996</th>\n",
       "      <td>worthwhile movement</td>\n",
       "      <td>brand</td>\n",
       "    </tr>\n",
       "    <tr>\n",
       "      <th>9997</th>\n",
       "      <td>18</td>\n",
       "      <td>category</td>\n",
       "    </tr>\n",
       "    <tr>\n",
       "      <th>9998</th>\n",
       "      <td>card wallet</td>\n",
       "      <td>category</td>\n",
       "    </tr>\n",
       "    <tr>\n",
       "      <th>9999</th>\n",
       "      <td>셔링스커트</td>\n",
       "      <td>category</td>\n",
       "    </tr>\n",
       "  </tbody>\n",
       "</table>\n",
       "<p>10000 rows × 2 columns</p>\n",
       "</div>"
      ],
      "text/plain": [
       "                  keyword predicted_label\n",
       "0                     이미스           brand\n",
       "1                     마뗑킴           brand\n",
       "2                     던스트           brand\n",
       "3                      키링        category\n",
       "4                      백팩        category\n",
       "...                   ...             ...\n",
       "9995                   발란        category\n",
       "9996  worthwhile movement           brand\n",
       "9997                   18        category\n",
       "9998          card wallet        category\n",
       "9999                셔링스커트        category\n",
       "\n",
       "[10000 rows x 2 columns]"
      ]
     },
     "execution_count": 86,
     "metadata": {},
     "output_type": "execute_result"
    }
   ],
   "source": [
    "predict_df"
   ]
  },
  {
   "cell_type": "code",
   "execution_count": null,
   "metadata": {},
   "outputs": [],
   "source": [
    "# keyword_types_df = pd.read_csv('../data/text_classification/keyword_types.csv')\n",
    "# # similar_keyword_df = pd.read_csv('../data/text_classification/similar_keyword.csv')\n",
    "# category_df = pd.read_csv('../data/text_classification/category.csv')\n",
    "# app_search_keyword_df = pd.read_csv('../data/text_classification/09_03_app_search_keyword.csv')\n",
    "# brand_df = pd.read_csv('../data/text_classification/brands.csv')"
   ]
  },
  {
   "cell_type": "code",
   "execution_count": null,
   "metadata": {},
   "outputs": [],
   "source": [
    "# len(brand_df)"
   ]
  },
  {
   "cell_type": "code",
   "execution_count": null,
   "metadata": {},
   "outputs": [],
   "source": [
    "# keyword_types_df"
   ]
  },
  {
   "cell_type": "code",
   "execution_count": null,
   "metadata": {},
   "outputs": [],
   "source": [
    "# keyword_types_df[keyword_types_df['keyword'] == '스텐드오일']"
   ]
  },
  {
   "cell_type": "markdown",
   "metadata": {},
   "source": [
    "### Merge Data"
   ]
  },
  {
   "cell_type": "code",
   "execution_count": null,
   "metadata": {},
   "outputs": [],
   "source": [
    "# brands = brand_df['front_brand_name_kor'].to_list()[:4130]\n",
    "# brand_labels = ['brand' for _ in brands]\n",
    "#\n",
    "# brand_keyword_df = pd.DataFrame({'keyword': brands, 'label': brand_labels})\n",
    "#\n",
    "# category_keywords = [keyword for keywords in similar_keyword_df['similar_keyword'].to_list() for keyword in keywords.split(',') if keyword != '']\n",
    "# category_labels = ['category' for _ in category_keywords]\n",
    "#\n",
    "# similar_keyword_category_df = pd.DataFrame({'keyword': category_keywords, 'label': category_labels})\n",
    "#\n",
    "# app_search_keyword_df = app_search_keyword_df[['keyword', 'brand_name']]\n",
    "#\n",
    "# app_search_keyword_df[~app_search_keyword_df['keyword'].isin(brands)]\n",
    "# app_search_keyword_df = app_search_keyword_df[~app_search_keyword_df.apply(lambda row: row['brand_name'] in row['keyword'], axis=1)]\n",
    "# app_search_keyword_df = app_search_keyword_df[~app_search_keyword_df.apply(lambda row: row['keyword'] in row['brand_name'], axis=1)]\n",
    "# app_search_keyword_df = app_search_keyword_df[~app_search_keyword_df['keyword'].astype(str).str.isdigit()]\n",
    "# app_search_keyword_df = app_search_keyword_df[~app_search_keyword_df['keyword'].str.contains(r'^[0-9!@#$%^&*()+]+$')]\n",
    "# app_search_keyword_df = app_search_keyword_df[~app_search_keyword_df['keyword'].astype(str).str.match(r'^\\d+\\.\\d+$')]\n",
    "# app_search_keyword_df = app_search_keyword_df[~(app_search_keyword_df['keyword'].str.replace(r'\\s+', '', regex=True) == app_search_keyword_df['brand_name'].str.replace(r'\\s+', '', regex=True))]\n",
    "# app_search_keyword_df = app_search_keyword_df[~app_search_keyword_df.apply(lambda row: row['brand_name'].replace(\" \", \"\") in row['keyword'], axis=1)]\n",
    "# app_search_keyword_df = app_search_keyword_df[~app_search_keyword_df.apply(lambda row: row['brand_name'].replace(\" \", \"\") in row['keyword'].replace(\" \", \"\"), axis=1)]\n",
    "# app_search_keyword_df = app_search_keyword_df[~app_search_keyword_df['brand_name'].isin(['게스언더웨어', '24/7 시리즈', '24/7 시리즈 포 우먼', '호텔파리칠', '홈그로운 서플라이', '호와스', '헤지스골프', '헤이', '하킷', '헤라', '헤레우'])]\n",
    "# app_search_keyword_df = app_search_keyword_df[~app_search_keyword_df['keyword'].isin(['호텔파리칠'])]\n",
    "# app_search_keyword_df['keyword'] = app_search_keyword_df['keyword'].str.replace(r'\\s+', '', regex=True)\n",
    "# app_search_keyword_df = app_search_keyword_df.drop_duplicates(subset='keyword', keep='first')\n",
    "#\n",
    "# app_search_keywords = app_search_keyword_df['keyword'].to_list()\n",
    "# app_search_keywords_labels = ['category' for _ in app_search_keywords]\n",
    "#\n",
    "# app_search_category_df = pd.DataFrame({'keyword': app_search_keywords, 'label': app_search_keywords_labels})\n",
    "#\n",
    "# keyword_df = pd.concat([keyword_types_df, similar_keyword_category_df, category_df, app_search_category_df, brand_keyword_df])\n",
    "#\n",
    "# keyword_df['keyword'] = keyword_df['keyword'].astype('str')\n",
    "# keyword_df = keyword_df.sample(frac = 1)"
   ]
  },
  {
   "cell_type": "markdown",
   "metadata": {},
   "source": [
    "### Train, Test split"
   ]
  },
  {
   "cell_type": "code",
   "execution_count": null,
   "metadata": {},
   "outputs": [],
   "source": [
    "# print(len(keyword_df[keyword_df['label'] == 'brand']))\n",
    "# print(len(keyword_df[keyword_df['label'] == 'category']))"
   ]
  },
  {
   "cell_type": "code",
   "execution_count": null,
   "metadata": {},
   "outputs": [],
   "source": [
    "# # 추가된 내용\n",
    "# # brand_df = keyword_df[keyword_df['label'] == 'brand'][:39811]\n",
    "# # category_df = keyword_df[keyword_df['label'] == 'category'][:39811]\n",
    "#\n",
    "# # keyword_df = pd.concat([brand_df, category_df])\n",
    "# keyword_df = keyword_df.sample(frac = 1)"
   ]
  },
  {
   "cell_type": "code",
   "execution_count": null,
   "metadata": {},
   "outputs": [],
   "source": [
    "# keyword_df[keyword_df.label.isna()]"
   ]
  },
  {
   "cell_type": "code",
   "execution_count": null,
   "metadata": {},
   "outputs": [],
   "source": [
    "# corpus = keyword_df['keyword'].to_list()\n",
    "# labels = keyword_df['label'].to_list()\n",
    "#\n",
    "# # corpus = keyword_df['keyword'].to_list()[:30000]\n",
    "# # labels = keyword_df['label'].to_list()[:30000]\n",
    "#\n",
    "# with open(\"../data/text_classification/category_brand_keyword.txt\", \"w\", encoding=\"utf-8\") as file:\n",
    "#     for text, label in zip(corpus, labels):\n",
    "#         file.write(f\"__label__{label} {text}\\n\")\n",
    "#\n",
    "# X_train, X_test, y_train, y_test = train_test_split(corpus, labels, test_size=0.2, random_state=42)"
   ]
  },
  {
   "cell_type": "markdown",
   "metadata": {
    "collapsed": false
   },
   "source": [
    "### Train"
   ]
  },
  {
   "cell_type": "code",
   "execution_count": null,
   "metadata": {},
   "outputs": [],
   "source": [
    "# model = fasttext.train_supervised(\n",
    "#     \"../data/text_classification/category_brand_keyword.txt\",\n",
    "#     lr=0.5,\n",
    "#     epoch=7000,\n",
    "#     wordNgrams=1,\n",
    "#     ws=1,\n",
    "#     minCountLabel=1\n",
    "# )"
   ]
  },
  {
   "cell_type": "code",
   "execution_count": null,
   "metadata": {},
   "outputs": [],
   "source": [
    "# # 모델 평가 및 정확도 계산\n",
    "# y_pred = [model.predict(text)[0][0].split(\"__label__\")[1] for text in X_test]\n",
    "# accuracy = accuracy_score(y_test, y_pred)\n",
    "# print(f\"Accuracy: {accuracy * 100:.2f}%\")"
   ]
  },
  {
   "cell_type": "code",
   "execution_count": null,
   "metadata": {},
   "outputs": [],
   "source": [
    "# def predict(keywords):\n",
    "#     result = {'keyword': [], 'predicted_label': []}\n",
    "#\n",
    "#     for keyword in keywords:\n",
    "#         predicted_label = model.predict(keyword)[0][0].split(\"__label__\")[1]\n",
    "#\n",
    "#         result['keyword'].append(keyword)\n",
    "#         result['predicted_label'].append(predicted_label)\n",
    "#\n",
    "#         print(f\"{keyword}: {predicted_label}\")"
   ]
  },
  {
   "cell_type": "code",
   "execution_count": null,
   "metadata": {},
   "outputs": [],
   "source": []
  }
 ],
 "metadata": {
  "kernelspec": {
   "display_name": "Python 3",
   "language": "python",
   "name": "python3"
  },
  "language_info": {
   "codemirror_mode": {
    "name": "ipython",
    "version": 3
   },
   "file_extension": ".py",
   "mimetype": "text/x-python",
   "name": "python",
   "nbconvert_exporter": "python",
   "pygments_lexer": "ipython3",
   "version": "3.10.10"
  },
  "orig_nbformat": 4
 },
 "nbformat": 4,
 "nbformat_minor": 2
}
