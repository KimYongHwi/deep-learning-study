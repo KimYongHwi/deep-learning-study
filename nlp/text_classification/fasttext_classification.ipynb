{
 "cells": [
  {
   "cell_type": "markdown",
   "metadata": {},
   "source": [
    "### Category, Brand Text classification"
   ]
  },
  {
   "cell_type": "code",
   "execution_count": 1,
   "metadata": {},
   "outputs": [],
   "source": [
    "import datetime\n",
    "import fasttext\n",
    "import pandas as pd\n",
    "from sklearn.model_selection import train_test_split\n",
    "from sklearn.metrics import accuracy_score, precision_score, recall_score, f1_score"
   ]
  },
  {
   "cell_type": "code",
   "execution_count": 2,
   "metadata": {
    "collapsed": false
   },
   "outputs": [
    {
     "name": "stdout",
     "output_type": "stream",
     "text": [
      "<class 'pandas.core.frame.DataFrame'>\n",
      "RangeIndex: 228541 entries, 0 to 228540\n",
      "Data columns (total 2 columns):\n",
      " #   Column   Non-Null Count   Dtype \n",
      "---  ------   --------------   ----- \n",
      " 0   keyword  228541 non-null  object\n",
      " 1   label    228541 non-null  object\n",
      "dtypes: object(2)\n",
      "memory usage: 3.5+ MB\n"
     ]
    }
   ],
   "source": [
    "keyword_df = pd.read_csv('../data/text_classification/brand_category_classification/keyword.csv')\n",
    "keyword_df['keyword'] = keyword_df['keyword'].replace(['NaN', 'nan'], pd.NA)\n",
    "keyword_df['keyword'] = keyword_df['keyword'].astype('str')\n",
    "keyword_df['keyword'] = keyword_df['keyword'].str.strip()\n",
    "\n",
    "keyword_df.info()"
   ]
  },
  {
   "cell_type": "markdown",
   "metadata": {
    "collapsed": false
   },
   "source": [
    "#### Train, Test data split"
   ]
  },
  {
   "cell_type": "code",
   "execution_count": 3,
   "metadata": {
    "collapsed": false
   },
   "outputs": [],
   "source": [
    "corpus = keyword_df['keyword'].to_list()\n",
    "labels = keyword_df['label'].to_list()\n",
    "\n",
    "with open(\"../data/text_classification/brand_category_classification/brand_category_classification_label.txt\", \"w\", encoding=\"utf-8\") as file:\n",
    "    for text, label in zip(corpus, labels):\n",
    "        file.write(f\"__label__{label} {text}\\n\")\n",
    "\n",
    "X_train, X_test, y_train, y_test = train_test_split(corpus, labels, test_size=0.3, random_state=42)"
   ]
  },
  {
   "cell_type": "markdown",
   "metadata": {
    "collapsed": false
   },
   "source": [
    "#### Train"
   ]
  },
  {
   "cell_type": "code",
   "execution_count": 4,
   "metadata": {
    "collapsed": false
   },
   "outputs": [
    {
     "name": "stderr",
     "output_type": "stream",
     "text": [
      "Read 0M words\n",
      "Number of words:  87816\n",
      "Number of labels: 2\n",
      "Progress: 100.0% words/sec/thread: 1363352 lr:  0.000000 avg.loss:  0.046427 ETA:   0h 0m 0s\n"
     ]
    }
   ],
   "source": [
    "model = fasttext.train_supervised(\n",
    "    \"../data/text_classification/brand_category_classification/brand_category_classification_label.txt\",\n",
    "    lr=0.5,\n",
    "    epoch=7000,\n",
    "    wordNgrams=1,\n",
    "    ws=1,\n",
    "    minCountLabel=1\n",
    ")"
   ]
  },
  {
   "cell_type": "code",
   "execution_count": 5,
   "metadata": {
    "collapsed": false
   },
   "outputs": [],
   "source": [
    "model.save_model(\"../model/text_classification/brand_category_classification/fasttext_model.bin\")"
   ]
  },
  {
   "cell_type": "markdown",
   "metadata": {
    "collapsed": false
   },
   "source": [
    "#### Test"
   ]
  },
  {
   "cell_type": "code",
   "execution_count": 6,
   "metadata": {},
   "outputs": [],
   "source": [
    "def evaluate_model(keywords, labels):\n",
    "    predictions = []\n",
    "    for keyword in keywords:\n",
    "        predicted_label = model.predict(keyword)[0][0].split(\"__label__\")[1]\n",
    "        predictions.append(0 if predicted_label == 'brand' else 1)\n",
    "\n",
    "    accuracy = accuracy_score(labels, predictions)\n",
    "    precision = precision_score(labels, predictions)\n",
    "    recall = recall_score(labels, predictions)\n",
    "    f1 = f1_score(labels, predictions)\n",
    "\n",
    "    return accuracy, precision, recall, f1 "
   ]
  },
  {
   "cell_type": "code",
   "execution_count": 7,
   "metadata": {
    "collapsed": false
   },
   "outputs": [
    {
     "name": "stdout",
     "output_type": "stream",
     "text": [
      "2023-09-18 19:43:34.105794 - 정확도: 99.87, 정밀도: 99.85, 재현율: 99.89, F1 점수: 99.87\n"
     ]
    }
   ],
   "source": [
    "from sklearn.preprocessing import LabelEncoder\n",
    "\n",
    "current_time = datetime.datetime.now()\n",
    "\n",
    "label_encoder = LabelEncoder()\n",
    "\n",
    "y_labels = label_encoder.fit_transform(y_test)\n",
    "\n",
    "accuracy, precision, recall, f1 = evaluate_model(X_test, y_labels)\n",
    "print(f'{current_time} - 정확도: {accuracy * 100:.2f}, 정밀도: {precision * 100:.2f}, 재현율: {recall * 100:.2f}, F1 점수: {f1 * 100:.2f}')\n"
   ]
  },
  {
   "cell_type": "code",
   "execution_count": 8,
   "metadata": {},
   "outputs": [
    {
     "name": "stdout",
     "output_type": "stream",
     "text": [
      "Accuracy: 99.87%\n"
     ]
    }
   ],
   "source": [
    "# 모델 평가 및 정확도 계산\n",
    "y_pred = [model.predict(text)[0][0].split(\"__label__\")[1] for text in X_test]\n",
    "accuracy = accuracy_score(y_test, y_pred)\n",
    "\n",
    "print(f\"Accuracy: {accuracy * 100:.2f}%\")"
   ]
  },
  {
   "cell_type": "markdown",
   "metadata": {
    "collapsed": false
   },
   "source": [
    "#### Predict"
   ]
  },
  {
   "cell_type": "code",
   "execution_count": 9,
   "metadata": {
    "collapsed": false
   },
   "outputs": [],
   "source": [
    "def predict(keywords):\n",
    "    result = {'keyword': [], 'predicted_label': []}\n",
    "\n",
    "    for keyword in keywords:\n",
    "        predicted_label = model.predict(keyword)[0][0].split(\"__label__\")[1]\n",
    "\n",
    "        result['keyword'].append(keyword)\n",
    "        result['predicted_label'].append(predicted_label)\n",
    "\n",
    "    return result"
   ]
  },
  {
   "cell_type": "code",
   "execution_count": 10,
   "outputs": [
    {
     "data": {
      "text/plain": "{'keyword': ['z플립'], 'predicted_label': ['category']}"
     },
     "execution_count": 10,
     "metadata": {},
     "output_type": "execute_result"
    }
   ],
   "source": [
    "predict(['z플립'])"
   ],
   "metadata": {
    "collapsed": false
   }
  },
  {
   "cell_type": "code",
   "execution_count": 11,
   "metadata": {
    "collapsed": false
   },
   "outputs": [],
   "source": [
    "top_query_df = pd.read_csv('../data/text_classification/brand_category_classification/top_10000_query.csv')"
   ]
  },
  {
   "cell_type": "code",
   "execution_count": 12,
   "metadata": {
    "collapsed": false
   },
   "outputs": [
    {
     "name": "stdout",
     "output_type": "stream",
     "text": [
      "created fasttext-predicts.csv, 2023-09-18 19:43:34.607488\n"
     ]
    }
   ],
   "source": [
    "import datetime\n",
    "\n",
    "current_time = datetime.datetime.now()\n",
    "\n",
    "test_keywords = top_query_df['keyword'].to_list()\n",
    "predict_df = pd.DataFrame.from_dict(predict(test_keywords))\n",
    "\n",
    "predict_df.to_csv('../model/text_classification/brand_category_classification/fasttext-predicts.csv', index=False)\n",
    "\n",
    "print(f\"created fasttext-predicts.csv, {current_time}\")"
   ]
  },
  {
   "cell_type": "code",
   "execution_count": 13,
   "metadata": {
    "collapsed": false
   },
   "outputs": [
    {
     "data": {
      "text/plain": "                  keyword predicted_label\n0                     이미스           brand\n1                     마뗑킴           brand\n2                     던스트           brand\n3                      키링        category\n4                      백팩        category\n...                   ...             ...\n9995                   발란        category\n9996  worthwhile movement           brand\n9997                   18        category\n9998          card wallet        category\n9999                셔링스커트        category\n\n[10000 rows x 2 columns]",
      "text/html": "<div>\n<style scoped>\n    .dataframe tbody tr th:only-of-type {\n        vertical-align: middle;\n    }\n\n    .dataframe tbody tr th {\n        vertical-align: top;\n    }\n\n    .dataframe thead th {\n        text-align: right;\n    }\n</style>\n<table border=\"1\" class=\"dataframe\">\n  <thead>\n    <tr style=\"text-align: right;\">\n      <th></th>\n      <th>keyword</th>\n      <th>predicted_label</th>\n    </tr>\n  </thead>\n  <tbody>\n    <tr>\n      <th>0</th>\n      <td>이미스</td>\n      <td>brand</td>\n    </tr>\n    <tr>\n      <th>1</th>\n      <td>마뗑킴</td>\n      <td>brand</td>\n    </tr>\n    <tr>\n      <th>2</th>\n      <td>던스트</td>\n      <td>brand</td>\n    </tr>\n    <tr>\n      <th>3</th>\n      <td>키링</td>\n      <td>category</td>\n    </tr>\n    <tr>\n      <th>4</th>\n      <td>백팩</td>\n      <td>category</td>\n    </tr>\n    <tr>\n      <th>...</th>\n      <td>...</td>\n      <td>...</td>\n    </tr>\n    <tr>\n      <th>9995</th>\n      <td>발란</td>\n      <td>category</td>\n    </tr>\n    <tr>\n      <th>9996</th>\n      <td>worthwhile movement</td>\n      <td>brand</td>\n    </tr>\n    <tr>\n      <th>9997</th>\n      <td>18</td>\n      <td>category</td>\n    </tr>\n    <tr>\n      <th>9998</th>\n      <td>card wallet</td>\n      <td>category</td>\n    </tr>\n    <tr>\n      <th>9999</th>\n      <td>셔링스커트</td>\n      <td>category</td>\n    </tr>\n  </tbody>\n</table>\n<p>10000 rows × 2 columns</p>\n</div>"
     },
     "execution_count": 13,
     "metadata": {},
     "output_type": "execute_result"
    }
   ],
   "source": [
    "predict_df"
   ]
  },
  {
   "cell_type": "markdown",
   "metadata": {},
   "source": [
    "### 테스트 데이터로 지표 측정"
   ]
  },
  {
   "cell_type": "code",
   "execution_count": 14,
   "metadata": {},
   "outputs": [],
   "source": [
    "from sklearn.metrics import accuracy_score, precision_score, recall_score, f1_score"
   ]
  },
  {
   "cell_type": "code",
   "execution_count": 15,
   "metadata": {},
   "outputs": [],
   "source": [
    "test_brand_df = pd.read_csv('../data/text_classification/brand_category_classification/test/test_brand.csv')\n",
    "test_brand_category_df = pd.read_csv('../data/text_classification/brand_category_classification/test/test_brand_category.csv')\n",
    "test_category_df = pd.read_csv('../data/text_classification/brand_category_classification/test/test_category.csv')\n",
    "\n",
    "test_brand_df['keyword'] = test_brand_df['keyword'].astype('str')\n",
    "test_brand_category_df['keyword'] = test_brand_category_df['keyword'].astype('str')\n",
    "test_category_df['keyword'] = test_category_df['keyword'].astype('str')\n",
    "\n",
    "test_df = pd.concat([test_brand_df, test_category_df])"
   ]
  },
  {
   "cell_type": "code",
   "execution_count": 16,
   "metadata": {},
   "outputs": [],
   "source": [
    "corpus = test_df['keyword'].to_list()\n",
    "labels = test_df['label'].to_list()"
   ]
  },
  {
   "cell_type": "code",
   "execution_count": 17,
   "metadata": {},
   "outputs": [],
   "source": [
    "def evaluate_model(keywords, labels):\n",
    "    predictions = []\n",
    "    for keyword in keywords:\n",
    "        predicted_label = model.predict(keyword)[0][0].split(\"__label__\")[1]\n",
    "        predictions.append(0 if predicted_label == 'brand' else 1)\n",
    "\n",
    "    accuracy = accuracy_score(labels, predictions)\n",
    "    precision = precision_score(labels, predictions)\n",
    "    recall = recall_score(labels, predictions)\n",
    "    f1 = f1_score(labels, predictions)\n",
    "\n",
    "    return accuracy, precision, recall, f1 "
   ]
  },
  {
   "cell_type": "code",
   "execution_count": 18,
   "metadata": {},
   "outputs": [],
   "source": [
    "from sklearn.preprocessing import LabelEncoder\n",
    "\n",
    "label_encoder = LabelEncoder()\n",
    "labels = label_encoder.fit_transform(labels)\n"
   ]
  },
  {
   "cell_type": "code",
   "execution_count": 19,
   "metadata": {},
   "outputs": [
    {
     "name": "stdout",
     "output_type": "stream",
     "text": [
      "2023-09-18 19:43:34.607488 - 정확도: 97.84, 정밀도: 93.75, 재현율: 98.25, F1 점수: 95.95\n"
     ]
    }
   ],
   "source": [
    "accuracy, precision, recall, f1 = evaluate_model(corpus, labels)\n",
    "print(f'{current_time} - 정확도: {accuracy * 100:.2f}, 정밀도: {precision * 100:.2f}, 재현율: {recall * 100:.2f}, F1 점수: {f1 * 100:.2f}')"
   ]
  },
  {
   "cell_type": "code",
   "execution_count": 20,
   "outputs": [
    {
     "data": {
      "text/plain": "(87816, 100)"
     },
     "execution_count": 20,
     "metadata": {},
     "output_type": "execute_result"
    }
   ],
   "source": [
    "model.get_input_matrix().shape"
   ],
   "metadata": {
    "collapsed": false
   }
  }
 ],
 "metadata": {
  "kernelspec": {
   "display_name": "Python 3",
   "language": "python",
   "name": "python3"
  },
  "language_info": {
   "codemirror_mode": {
    "name": "ipython",
    "version": 3
   },
   "file_extension": ".py",
   "mimetype": "text/x-python",
   "name": "python",
   "nbconvert_exporter": "python",
   "pygments_lexer": "ipython3",
   "version": "3.10.10"
  },
  "orig_nbformat": 4
 },
 "nbformat": 4,
 "nbformat_minor": 2
}
